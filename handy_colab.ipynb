{
  "nbformat": 4,
  "nbformat_minor": 0,
  "metadata": {
    "colab": {
      "name": "handy-colab.ipynb",
      "provenance": [],
      "collapsed_sections": []
    },
    "kernelspec": {
      "name": "python3",
      "display_name": "Python 3"
    },
    "language_info": {
      "name": "python"
    },
    "accelerator": "GPU"
  },
  "cells": [
    {
      "cell_type": "code",
      "execution_count": null,
      "metadata": {
        "id": "VEZDffleN1mQ"
      },
      "outputs": [],
      "source": [
        "# Google drive folder containing all the options for the tunnel and extra packages to install\n",
        "gdrive_folder = '/content/drive/MyDrive/colab_data/tunnel_options'"
      ]
    },
    {
      "cell_type": "code",
      "source": [
        "!pip install git+https://github.com/ggalan87/handy-google-colab"
      ],
      "metadata": {
        "id": "kRAulcBuKujw"
      },
      "execution_count": null,
      "outputs": []
    },
    {
      "cell_type": "code",
      "source": [
        "from handy_colab import tunnel_starter"
      ],
      "metadata": {
        "id": "5-BiZrsvLm6p"
      },
      "execution_count": null,
      "outputs": []
    },
    {
      "cell_type": "code",
      "source": [
        "tunnel_starter.start_tunnel(gdrive_folder)"
      ],
      "metadata": {
        "id": "mC-xDBE6Lt4Q"
      },
      "execution_count": null,
      "outputs": []
    },
    {
      "cell_type": "code",
      "source": [
        "# Small snippet to monitor GPU, since watch seems to print rubbish\n",
        "import subprocess\n",
        "import time\n",
        "from IPython.display import clear_output\n",
        "\n",
        "while True:\n",
        "  clear_output(wait=True)\n",
        "  ret = subprocess.run([\"nvidia-smi\"], capture_output=True)\n",
        "  print(ret.stdout.decode())\n",
        "  time.sleep(5)  "
      ],
      "metadata": {
        "id": "VZ9sSMoWI3sS"
      },
      "execution_count": null,
      "outputs": []
    }
  ]
}